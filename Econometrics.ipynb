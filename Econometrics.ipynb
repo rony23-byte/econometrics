{
  "nbformat": 4,
  "nbformat_minor": 0,
  "metadata": {
    "colab": {
      "provenance": [],
      "include_colab_link": true
    },
    "kernelspec": {
      "name": "python3",
      "display_name": "Python 3"
    },
    "language_info": {
      "name": "python"
    }
  },
  "cells": [
    {
      "cell_type": "markdown",
      "metadata": {
        "id": "view-in-github",
        "colab_type": "text"
      },
      "source": [
        "<a href=\"https://colab.research.google.com/github/rony23-byte/econometrics/blob/main/Econometrics.ipynb\" target=\"_parent\"><img src=\"https://colab.research.google.com/assets/colab-badge.svg\" alt=\"Open In Colab\"/></a>"
      ]
    },
    {
      "cell_type": "markdown",
      "source": [
        "Importing **libaries**"
      ],
      "metadata": {
        "id": "CPl3--_KGwEv"
      }
    },
    {
      "cell_type": "code",
      "execution_count": null,
      "metadata": {
        "id": "YM0y9dZgDyPc"
      },
      "outputs": [],
      "source": [
        "import numpy as np\n",
        "import pandas as pd\n",
        "import matplotlib.pyplot as plt\n",
        "from sklearn import datasets,metrics\n",
        "from sklearn.linear_model import LinearRegression"
      ]
    },
    {
      "cell_type": "markdown",
      "source": [],
      "metadata": {
        "id": "g8vN7czfGukp"
      }
    },
    {
      "cell_type": "markdown",
      "source": [
        "Loading the dataset\n"
      ],
      "metadata": {
        "id": "bwVVc_LNL1W3"
      }
    },
    {
      "cell_type": "code",
      "source": [
        "econmetrics=pd.read_csv(\"/content/ beauty.csv\")\n",
        "econmetrics.head()\n",
        "df=pd.DataFrame(econmetrics)\n",
        "print(df)\n",
        " \n",
        " "
      ],
      "metadata": {
        "colab": {
          "base_uri": "https://localhost:8080/"
        },
        "id": "_G6OV085M3hn",
        "outputId": "d5679f53-be6a-445a-f4e0-8dde779af3d0"
      },
      "execution_count": null,
      "outputs": [
        {
          "output_type": "stream",
          "name": "stdout",
          "text": [
            "       wage  exper  looks  union  goodhlth  black  female  married  south  \\\n",
            "0      5.73     30      4      0         1      0       1        1      0   \n",
            "1      4.28     28      3      0         1      0       1        1      1   \n",
            "2      7.96     35      4      0         1      0       1        0      0   \n",
            "3     11.57     38      3      0         1      0       0        1      0   \n",
            "4     11.42     27      3      0         1      0       0        1      0   \n",
            "...     ...    ...    ...    ...       ...    ...     ...      ...    ...   \n",
            "1255   1.61     25      3      0         1      1       1        0      0   \n",
            "1256   1.68      4      2      0         1      0       1        1      0   \n",
            "1257   3.29     35      3      0         1      1       1        0      0   \n",
            "1258   2.31     15      3      0         1      1       1        1      0   \n",
            "1259   1.92     24      3      0         0      0       1        0      1   \n",
            "\n",
            "      bigcity  smllcity  service  educ  \n",
            "0           0         1        1    14  \n",
            "1           0         1        0    12  \n",
            "2           0         1        0    10  \n",
            "3           1         0        1    16  \n",
            "4           0         1        0    16  \n",
            "...       ...       ...      ...   ...  \n",
            "1255        0         0        1    12  \n",
            "1256        0         1        1    12  \n",
            "1257        0         1        1    12  \n",
            "1258        1         0        1    10  \n",
            "1259        0         1        1    16  \n",
            "\n",
            "[1260 rows x 13 columns]\n"
          ]
        }
      ]
    },
    {
      "cell_type": "markdown",
      "source": [],
      "metadata": {
        "id": "HNyt3N0_Eb6Y"
      }
    },
    {
      "cell_type": "markdown",
      "source": [
        "dropping missing values "
      ],
      "metadata": {
        "id": "_8EI0LRwaVdZ"
      }
    },
    {
      "cell_type": "markdown",
      "source": [
        "defining the feature matrix and the response variable"
      ],
      "metadata": {
        "id": "cvBh7b7jN5eX"
      }
    },
    {
      "cell_type": "code",
      "source": [
        " #dropping the unecessary features \n",
        " df2.drop(df2.columns[[3 , 4,5,6,7,8,9,10,11]], axis=1, inplace=True)\n",
        "  \n",
        "df2\n"
      ],
      "metadata": {
        "colab": {
          "base_uri": "https://localhost:8080/",
          "height": 313
        },
        "id": "XPhbRzXJWNYx",
        "outputId": "17472798-63c0-4b3c-fc08-0c89ab08748e"
      },
      "execution_count": null,
      "outputs": [
        {
          "output_type": "stream",
          "name": "stderr",
          "text": [
            "/usr/local/lib/python3.8/dist-packages/pandas/core/frame.py:4906: SettingWithCopyWarning: \n",
            "A value is trying to be set on a copy of a slice from a DataFrame\n",
            "\n",
            "See the caveats in the documentation: https://pandas.pydata.org/pandas-docs/stable/user_guide/indexing.html#returning-a-view-versus-a-copy\n",
            "  return super().drop(\n"
          ]
        },
        {
          "output_type": "execute_result",
          "data": {
            "text/plain": [
              "    wage  exper  looks  educ\n",
              "0   5.73     30      4    14\n",
              "1   4.28     28      3    12\n",
              "2   7.96     35      4    10\n",
              "3  11.57     38      3    16\n",
              "4  11.42     27      3    16"
            ],
            "text/html": [
              "\n",
              "  <div id=\"df-e3108e19-9a85-40f9-8a7e-24054535bafe\">\n",
              "    <div class=\"colab-df-container\">\n",
              "      <div>\n",
              "<style scoped>\n",
              "    .dataframe tbody tr th:only-of-type {\n",
              "        vertical-align: middle;\n",
              "    }\n",
              "\n",
              "    .dataframe tbody tr th {\n",
              "        vertical-align: top;\n",
              "    }\n",
              "\n",
              "    .dataframe thead th {\n",
              "        text-align: right;\n",
              "    }\n",
              "</style>\n",
              "<table border=\"1\" class=\"dataframe\">\n",
              "  <thead>\n",
              "    <tr style=\"text-align: right;\">\n",
              "      <th></th>\n",
              "      <th>wage</th>\n",
              "      <th>exper</th>\n",
              "      <th>looks</th>\n",
              "      <th>educ</th>\n",
              "    </tr>\n",
              "  </thead>\n",
              "  <tbody>\n",
              "    <tr>\n",
              "      <th>0</th>\n",
              "      <td>5.73</td>\n",
              "      <td>30</td>\n",
              "      <td>4</td>\n",
              "      <td>14</td>\n",
              "    </tr>\n",
              "    <tr>\n",
              "      <th>1</th>\n",
              "      <td>4.28</td>\n",
              "      <td>28</td>\n",
              "      <td>3</td>\n",
              "      <td>12</td>\n",
              "    </tr>\n",
              "    <tr>\n",
              "      <th>2</th>\n",
              "      <td>7.96</td>\n",
              "      <td>35</td>\n",
              "      <td>4</td>\n",
              "      <td>10</td>\n",
              "    </tr>\n",
              "    <tr>\n",
              "      <th>3</th>\n",
              "      <td>11.57</td>\n",
              "      <td>38</td>\n",
              "      <td>3</td>\n",
              "      <td>16</td>\n",
              "    </tr>\n",
              "    <tr>\n",
              "      <th>4</th>\n",
              "      <td>11.42</td>\n",
              "      <td>27</td>\n",
              "      <td>3</td>\n",
              "      <td>16</td>\n",
              "    </tr>\n",
              "  </tbody>\n",
              "</table>\n",
              "</div>\n",
              "      <button class=\"colab-df-convert\" onclick=\"convertToInteractive('df-e3108e19-9a85-40f9-8a7e-24054535bafe')\"\n",
              "              title=\"Convert this dataframe to an interactive table.\"\n",
              "              style=\"display:none;\">\n",
              "        \n",
              "  <svg xmlns=\"http://www.w3.org/2000/svg\" height=\"24px\"viewBox=\"0 0 24 24\"\n",
              "       width=\"24px\">\n",
              "    <path d=\"M0 0h24v24H0V0z\" fill=\"none\"/>\n",
              "    <path d=\"M18.56 5.44l.94 2.06.94-2.06 2.06-.94-2.06-.94-.94-2.06-.94 2.06-2.06.94zm-11 1L8.5 8.5l.94-2.06 2.06-.94-2.06-.94L8.5 2.5l-.94 2.06-2.06.94zm10 10l.94 2.06.94-2.06 2.06-.94-2.06-.94-.94-2.06-.94 2.06-2.06.94z\"/><path d=\"M17.41 7.96l-1.37-1.37c-.4-.4-.92-.59-1.43-.59-.52 0-1.04.2-1.43.59L10.3 9.45l-7.72 7.72c-.78.78-.78 2.05 0 2.83L4 21.41c.39.39.9.59 1.41.59.51 0 1.02-.2 1.41-.59l7.78-7.78 2.81-2.81c.8-.78.8-2.07 0-2.86zM5.41 20L4 18.59l7.72-7.72 1.47 1.35L5.41 20z\"/>\n",
              "  </svg>\n",
              "      </button>\n",
              "      \n",
              "  <style>\n",
              "    .colab-df-container {\n",
              "      display:flex;\n",
              "      flex-wrap:wrap;\n",
              "      gap: 12px;\n",
              "    }\n",
              "\n",
              "    .colab-df-convert {\n",
              "      background-color: #E8F0FE;\n",
              "      border: none;\n",
              "      border-radius: 50%;\n",
              "      cursor: pointer;\n",
              "      display: none;\n",
              "      fill: #1967D2;\n",
              "      height: 32px;\n",
              "      padding: 0 0 0 0;\n",
              "      width: 32px;\n",
              "    }\n",
              "\n",
              "    .colab-df-convert:hover {\n",
              "      background-color: #E2EBFA;\n",
              "      box-shadow: 0px 1px 2px rgba(60, 64, 67, 0.3), 0px 1px 3px 1px rgba(60, 64, 67, 0.15);\n",
              "      fill: #174EA6;\n",
              "    }\n",
              "\n",
              "    [theme=dark] .colab-df-convert {\n",
              "      background-color: #3B4455;\n",
              "      fill: #D2E3FC;\n",
              "    }\n",
              "\n",
              "    [theme=dark] .colab-df-convert:hover {\n",
              "      background-color: #434B5C;\n",
              "      box-shadow: 0px 1px 3px 1px rgba(0, 0, 0, 0.15);\n",
              "      filter: drop-shadow(0px 1px 2px rgba(0, 0, 0, 0.3));\n",
              "      fill: #FFFFFF;\n",
              "    }\n",
              "  </style>\n",
              "\n",
              "      <script>\n",
              "        const buttonEl =\n",
              "          document.querySelector('#df-e3108e19-9a85-40f9-8a7e-24054535bafe button.colab-df-convert');\n",
              "        buttonEl.style.display =\n",
              "          google.colab.kernel.accessAllowed ? 'block' : 'none';\n",
              "\n",
              "        async function convertToInteractive(key) {\n",
              "          const element = document.querySelector('#df-e3108e19-9a85-40f9-8a7e-24054535bafe');\n",
              "          const dataTable =\n",
              "            await google.colab.kernel.invokeFunction('convertToInteractive',\n",
              "                                                     [key], {});\n",
              "          if (!dataTable) return;\n",
              "\n",
              "          const docLinkHtml = 'Like what you see? Visit the ' +\n",
              "            '<a target=\"_blank\" href=https://colab.research.google.com/notebooks/data_table.ipynb>data table notebook</a>'\n",
              "            + ' to learn more about interactive tables.';\n",
              "          element.innerHTML = '';\n",
              "          dataTable['output_type'] = 'display_data';\n",
              "          await google.colab.output.renderOutput(dataTable, element);\n",
              "          const docLink = document.createElement('div');\n",
              "          docLink.innerHTML = docLinkHtml;\n",
              "          element.appendChild(docLink);\n",
              "        }\n",
              "      </script>\n",
              "    </div>\n",
              "  </div>\n",
              "  "
            ]
          },
          "metadata": {},
          "execution_count": 37
        }
      ]
    },
    {
      "cell_type": "code",
      "source": [
        "zz"
      ],
      "metadata": {
        "colab": {
          "base_uri": "https://localhost:8080/"
        },
        "id": "68tB77HNHn0M",
        "outputId": "5dac9eb5-cba4-43ab-e6b2-c2fa4b13e5ea"
      },
      "execution_count": null,
      "outputs": [
        {
          "output_type": "stream",
          "name": "stdout",
          "text": [
            "    wage  exper  looks  union  goodhlth  black  female  married  south  \\\n",
            "0   5.73     30      4      0         1      0       1        1      0   \n",
            "1   4.28     28      3      0         1      0       1        1      1   \n",
            "2   7.96     35      4      0         1      0       1        0      0   \n",
            "3  11.57     38      3      0         1      0       0        1      0   \n",
            "4  11.42     27      3      0         1      0       0        1      0   \n",
            "\n",
            "   bigcity  smllcity  service  educ  \n",
            "0        0         1        1    14  \n",
            "1        0         1        0    12  \n",
            "2        0         1        0    10  \n",
            "3        1         0        1    16  \n",
            "4        0         1        0    16  \n"
          ]
        }
      ]
    },
    {
      "cell_type": "code",
      "source": [
        "x=df2.drop(['wage'],axis=1).values\n",
        "y=df2['wage'].values"
      ],
      "metadata": {
        "id": "B2hUFSPqOEOB"
      },
      "execution_count": null,
      "outputs": []
    },
    {
      "cell_type": "code",
      "source": [
        "print(x)\n"
      ],
      "metadata": {
        "colab": {
          "base_uri": "https://localhost:8080/"
        },
        "id": "WHnhxL36R8J2",
        "outputId": "b570540b-b6d5-4a52-f386-bbe116aa33d4"
      },
      "execution_count": null,
      "outputs": [
        {
          "output_type": "stream",
          "name": "stdout",
          "text": [
            "[[30  4 14]\n",
            " [28  3 12]\n",
            " [35  4 10]\n",
            " [38  3 16]\n",
            " [27  3 16]]\n"
          ]
        }
      ]
    },
    {
      "cell_type": "code",
      "source": [
        " print(y)"
      ],
      "metadata": {
        "colab": {
          "base_uri": "https://localhost:8080/"
        },
        "id": "euPuFhKTSBBM",
        "outputId": "9028f787-c144-40ad-c46a-4310e884b214"
      },
      "execution_count": null,
      "outputs": [
        {
          "output_type": "stream",
          "name": "stdout",
          "text": [
            "[ 5.73       4.2800002  7.96      11.57      11.42     ]\n"
          ]
        }
      ]
    },
    {
      "cell_type": "markdown",
      "source": [
        "Split dataset into training set and test set "
      ],
      "metadata": {
        "id": "H4DR1bu1SbiJ"
      }
    },
    {
      "cell_type": "code",
      "source": [
        "from sklearn.model_selection import train_test_split\n",
        "x_train,x_test,y_train,y_test=train_test_split(x,y,test_size=0.3,random_state=0)"
      ],
      "metadata": {
        "id": "pkLALdo2UeMx"
      },
      "execution_count": null,
      "outputs": []
    },
    {
      "cell_type": "markdown",
      "source": [
        "**Train the Model on the training set  **\n"
      ],
      "metadata": {
        "id": "TNmXUw-hVPwG"
      }
    },
    {
      "cell_type": "code",
      "source": [
        "ml=LinearRegression()\n",
        "ml.fit(x_train,y_train)\n",
        " "
      ],
      "metadata": {
        "colab": {
          "base_uri": "https://localhost:8080/"
        },
        "id": "oRkxhbvlYkuI",
        "outputId": "2e120ef9-198a-4976-e33f-a68dcb40797f"
      },
      "execution_count": null,
      "outputs": [
        {
          "output_type": "execute_result",
          "data": {
            "text/plain": [
              "LinearRegression()"
            ]
          },
          "metadata": {},
          "execution_count": 45
        }
      ]
    },
    {
      "cell_type": "code",
      "source": [],
      "metadata": {
        "id": "0KpzQqGdIq31"
      },
      "execution_count": null,
      "outputs": []
    },
    {
      "cell_type": "markdown",
      "source": [
        "Estimating the model\n"
      ],
      "metadata": {
        "id": "YjX8FnJkdg6d"
      }
    },
    {
      "cell_type": "code",
      "source": [
        "y_pred=ml.predict(x_test)\n",
        "print(y_pred)"
      ],
      "metadata": {
        "colab": {
          "base_uri": "https://localhost:8080/"
        },
        "id": "ZOgVlaYHeaGX",
        "outputId": "e00aa5aa-abae-410a-85a9-aef1a857ee06"
      },
      "execution_count": null,
      "outputs": [
        {
          "output_type": "stream",
          "name": "stdout",
          "text": [
            "[0.79863666 7.88409101]\n"
          ]
        }
      ]
    },
    {
      "cell_type": "code",
      "source": [],
      "metadata": {
        "id": "Npha7ie5Iwje"
      },
      "execution_count": null,
      "outputs": []
    },
    {
      "cell_type": "code",
      "source": [
        " "
      ],
      "metadata": {
        "id": "HJPrjp6NfJ3q"
      },
      "execution_count": null,
      "outputs": []
    },
    {
      "cell_type": "markdown",
      "source": [
        "This predicts"
      ],
      "metadata": {
        "id": "bfjDbggYl-9C"
      }
    },
    {
      "cell_type": "code",
      "source": [
        " "
      ],
      "metadata": {
        "id": "XjJUkWCdTrBw"
      },
      "execution_count": null,
      "outputs": []
    },
    {
      "cell_type": "markdown",
      "source": [
        "Checking the accuracy of our model\n"
      ],
      "metadata": {
        "id": "f-fpnBqTlD0c"
      }
    },
    {
      "cell_type": "code",
      "source": [
        " #printing the beta note, coefficeints and score\n",
        " print(ml.intercept_,ml.coef_,ml.score(x,y))\n",
        " \n",
        " "
      ],
      "metadata": {
        "colab": {
          "base_uri": "https://localhost:8080/"
        },
        "id": "ShMxoPuvlHCy",
        "outputId": "4c26d31e-8caa-4c80-f495-152ffe0b9c12"
      },
      "execution_count": null,
      "outputs": [
        {
          "output_type": "stream",
          "name": "stdout",
          "text": [
            "-17.562726472727284 [0.01363636 0.         1.78840904] -0.29307260353692444\n"
          ]
        }
      ]
    },
    {
      "cell_type": "code",
      "source": [
        " #printing the beta note, coefficeints and score\n",
        " print(ml.intercept_,ml.coef_,ml.score(x,y))\n",
        " \n",
        " "
      ],
      "metadata": {
        "colab": {
          "base_uri": "https://localhost:8080/"
        },
        "outputId": "3b143cc8-b6e9-4a89-d9c1-1a13b8d84705",
        "id": "Kql0QFTC1Ijv"
      },
      "execution_count": null,
      "outputs": [
        {
          "output_type": "stream",
          "name": "stdout",
          "text": [
            "-17.562726472727284 [0.01363636 0.         1.78840904] -0.29307260353692444\n"
          ]
        }
      ]
    },
    {
      "cell_type": "code",
      "source": [
        "y_pred=ml.predict(x_test)\n",
        "print(y_pred)"
      ],
      "metadata": {
        "colab": {
          "base_uri": "https://localhost:8080/"
        },
        "outputId": "311a356f-9516-44f8-b4d5-ac9c3478f171",
        "id": "tTGGFIOT0cu0"
      },
      "execution_count": null,
      "outputs": [
        {
          "output_type": "stream",
          "name": "stdout",
          "text": [
            "[0.79863666 7.88409101]\n"
          ]
        }
      ]
    },
    {
      "cell_type": "code",
      "source": [
        "y_pred=ml.predict(x_test)\n",
        "print(y_pred)"
      ],
      "metadata": {
        "colab": {
          "base_uri": "https://localhost:8080/"
        },
        "outputId": "1b54e854-8065-41f5-d05a-e23a55775849",
        "id": "j8V05RXa0axR"
      },
      "execution_count": null,
      "outputs": [
        {
          "output_type": "stream",
          "name": "stdout",
          "text": [
            "[0.79863666 7.88409101]\n"
          ]
        }
      ]
    },
    {
      "cell_type": "code",
      "source": [
        "#model evaluation\n",
        "from sklearn import metrics\n",
        "#print results of the metrics\n",
        "print(metrics.mean_absolute_error(y_test,y_pred))\n",
        "#print the result of the mean squared error\n",
        "print(metrics.mean_squared_error(y_test,y_pred))\n",
        "print(np.sqrt(metrics.mean_squared_error(y_test,y_pred)))\n"
      ],
      "metadata": {
        "colab": {
          "base_uri": "https://localhost:8080/"
        },
        "id": "W0Z9ESelIzGK",
        "outputId": "058f39e7-8dd2-4dca-a109-665859ed1fa2"
      },
      "execution_count": null,
      "outputs": [
        {
          "output_type": "stream",
          "name": "stdout",
          "text": [
            "4.657727172727274\n",
            "27.962616455429796\n",
            "5.287969029356147\n"
          ]
        }
      ]
    },
    {
      "cell_type": "markdown",
      "source": [],
      "metadata": {
        "id": "pp19kSM43EZd"
      }
    },
    {
      "cell_type": "code",
      "source": [],
      "metadata": {
        "id": "6Pygb0FB7Jw4"
      },
      "execution_count": null,
      "outputs": []
    },
    {
      "cell_type": "code",
      "source": [
        "# get importance\n",
        "importance = ml.coef_\n",
        "# summarize feature importance\n",
        "for i,v in enumerate(importance):\n",
        " print('Feature: %0d, Score: %.5f' % (i,v))\n",
        "# plot feature importance\n",
        "plt.bar([x for x in range(len(importance))], importance)\n",
        "plt.show()"
      ],
      "metadata": {
        "colab": {
          "base_uri": "https://localhost:8080/",
          "height": 317
        },
        "id": "5k4mVRJT7LA6",
        "outputId": "d2b15987-997d-43f6-d0d6-62579b46c020"
      },
      "execution_count": null,
      "outputs": [
        {
          "output_type": "stream",
          "name": "stdout",
          "text": [
            "Feature: 0, Score: 0.01364\n",
            "Feature: 1, Score: 0.00000\n",
            "Feature: 2, Score: 1.78841\n"
          ]
        },
        {
          "output_type": "display_data",
          "data": {
            "text/plain": [
              "<Figure size 432x288 with 1 Axes>"
            ],
            "image/png": "[encoded data removed]"
          },
          "metadata": {
            "needs_background": "light"
          }
        }
      ]
    },
    {
      "cell_type": "code",
      "source": [
        "import statsmodels.api as sm\n",
        "from statsmodels.formula.api import ols\n",
        "\n",
        "multi_model = ols('wage ~ looks+educ+exper',\n",
        "                   data=df2).fit()\n",
        "print(multi_model)\n"
      ],
      "metadata": {
        "colab": {
          "base_uri": "https://localhost:8080/"
        },
        "id": "uH52EDhx9YVr",
        "outputId": "8b204bbf-e260-43e0-f7e5-95fb4044f8f8"
      },
      "execution_count": null,
      "outputs": [
        {
          "output_type": "stream",
          "name": "stdout",
          "text": [
            "<statsmodels.regression.linear_model.RegressionResultsWrapper object at 0x7fdb2ac2ba60>\n"
          ]
        }
      ]
    },
    {
      "cell_type": "code",
      "source": [
        "print(multi_model.summary())\n",
        "# modify figure size\n",
        "fig = plt.figure(figsize=(14, 8))\n",
        "  \n",
        "# creating regression plots\n",
        "fig = sm.graphics.plot_regress_exog(multi_model, 'exper', fig=fig)"
      ],
      "metadata": {
        "colab": {
          "base_uri": "https://localhost:8080/",
          "height": 897
        },
        "id": "2KGH-p6--18_",
        "outputId": "be20cfef-1448-425e-cf82-5117931f13d2"
      },
      "execution_count": null,
      "outputs": [
        {
          "output_type": "stream",
          "name": "stderr",
          "text": [
            "/usr/local/lib/python3.8/dist-packages/statsmodels/stats/stattools.py:74: ValueWarning: omni_normtest is not valid with less than 8 observations; 5 samples were given.\n",
            "  warn(\"omni_normtest is not valid with less than 8 observations; %i \"\n"
          ]
        },
        {
          "output_type": "stream",
          "name": "stdout",
          "text": [
            "                            OLS Regression Results                            \n",
            "==============================================================================\n",
            "Dep. Variable:                   wage   R-squared:                       0.598\n",
            "Model:                            OLS   Adj. R-squared:                 -0.608\n",
            "Method:                 Least Squares   F-statistic:                    0.4960\n",
            "Date:                Tue, 24 Jan 2023   Prob (F-statistic):              0.749\n",
            "Time:                        13:37:34   Log-Likelihood:                -10.210\n",
            "No. Observations:                   5   AIC:                             28.42\n",
            "Df Residuals:                       1   BIC:                             26.86\n",
            "Df Model:                           3                                         \n",
            "Covariance Type:            nonrobust                                         \n",
            "==============================================================================\n",
            "                 coef    std err          t      P>|t|      [0.025      0.975]\n",
            "------------------------------------------------------------------------------\n",
            "Intercept     -9.5042     27.680     -0.343      0.789    -361.208     342.200\n",
            "looks         -0.6812      4.664     -0.146      0.908     -59.942      58.579\n",
            "educ           0.7589      0.966      0.785      0.576     -11.518      13.036\n",
            "exper          0.3067      0.449      0.683      0.618      -5.397       6.010\n",
            "==============================================================================\n",
            "Omnibus:                          nan   Durbin-Watson:                   1.772\n",
            "Prob(Omnibus):                    nan   Jarque-Bera (JB):                0.677\n",
            "Skew:                           0.298   Prob(JB):                        0.713\n",
            "Kurtosis:                       1.299   Cond. No.                         521.\n",
            "==============================================================================\n",
            "\n",
            "Notes:\n",
            "[1] Standard Errors assume that the covariance matrix of the errors is correctly specified.\n"
          ]
        },
        {
          "output_type": "display_data",
          "data": {
            "text/plain": [
              "<Figure size 1008x576 with 4 Axes>"
            ],
            "image/png": "[encoded data removed]"
          },
          "metadata": {
            "needs_background": "light"
          }
        }
      ]
    },
    {
      "cell_type": "code",
      "source": [
        "import matplotlib.pyplot as plt\n",
        "plt.figure(figsize=(15,10))\n",
        "plt.scatter(y_test,y_pred)\n",
        "plt.xlabel('Actual')\n",
        "plt.ylabel('Predicted')\n",
        "plt.title('Actual vs Predicted')"
      ],
      "metadata": {
        "colab": {
          "base_uri": "https://localhost:8080/",
          "height": 467
        },
        "id": "Qn3J9d6kmz4N",
        "outputId": "927a9da7-4240-45fc-e96f-43600cde5787"
      },
      "execution_count": null,
      "outputs": [
        {
          "output_type": "execute_result",
          "data": {
            "text/plain": [
              "Text(0.5, 1.0, 'Actual vs Predicted')"
            ]
          },
          "metadata": {},
          "execution_count": 52
        },
        {
          "output_type": "display_data",
          "data": {
            "text/plain": [
              "<Figure size 1080x720 with 1 Axes>"
            ],
            "image/png": "[encoded data removed]"
          },
          "metadata": {
            "needs_background": "light"
          }
        }
      ]
    }
  ]
}